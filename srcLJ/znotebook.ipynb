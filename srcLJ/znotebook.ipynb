{
 "cells": [
  {
   "cell_type": "code",
   "execution_count": 13,
   "metadata": {},
   "outputs": [
    {
     "name": "stdout",
     "output_type": "stream",
     "text": [
      "tensor([[[ 0.,  0.,  0.],\n",
      "         [ 1.,  0.,  0.],\n",
      "         [ 0., 10.,  0.]]])\n",
      "tensor([[[[ 0.,  0.,  0.],\n",
      "          [ 1.,  0.,  0.],\n",
      "          [ 0., 10.,  0.]]]])\n",
      "tensor([[[ 0.,  0.,  0.],\n",
      "         [ 1.,  0.,  0.],\n",
      "         [ 0., 10.,  0.]]])\n",
      "tensor([[[ 0.,  0.,  0.],\n",
      "         [ 1.,  0.,  0.],\n",
      "         [ 0., 10.,  0.]]])\n",
      "\n",
      "=== Neighbor List ===\n",
      "tensor([[0, 0, 1]])\n",
      "\n",
      "=== Distances ===\n",
      "tensor([1.])\n",
      "\n",
      "=== Offsets ===\n",
      "tensor([[[ 0.,  0.,  0.],\n",
      "         [ 0.,  0.,  0.],\n",
      "         [ 0., -1.,  0.]]])\n"
     ]
    }
   ],
   "source": [
    "import torch\n",
    "\n",
    "\n",
    "def generate_nbr_list(xyz, cutoff, cell, index_tuple=None, ex_pairs=None, get_dis=False):    \n",
    "    device = xyz.device    \n",
    "    dis_mat = (xyz[..., None, :, :] - xyz[..., :, None, :])\n",
    "    print(xyz)\n",
    "    print(xyz[..., None, :, :])\n",
    "    print(xyz[..., :, None :])\n",
    "    print(xyz[..., :, None :])\n",
    "    # project the position vector onto the cell basis \n",
    "    reduced_dis = dis_mat.matmul(cell.inverse())\n",
    "    # using minimal image conv\n",
    "    offsets_add = -(reduced_dis > torch.Tensor([0.5, 0.5, 0.5]).to(device)).to(torch.float).to(device)\n",
    "    offsets_sub = (reduced_dis < -torch.Tensor([0.5, 0.5, 0.5]).to(device)).to(torch.float).to(device)\n",
    "    offsets = offsets_add + offsets_sub\n",
    "    \n",
    "    dis_mat = dis_mat + offsets.matmul(cell)\n",
    "    \n",
    "    dis_sq = torch.triu( dis_mat.pow(2).sum(-1) )\n",
    "    mask = (dis_sq < cutoff ** 2) & (dis_sq != 0)\n",
    "    nbr_list = torch.nonzero( torch.triu(mask.to(torch.long)), as_tuple=False)\n",
    "\n",
    "    if get_dis:\n",
    "        return nbr_list, dis_sq[mask].sqrt(), offsets[nbr_list[:, 0], nbr_list[:, 1], :]\n",
    "    else:\n",
    "        return nbr_list, offsets[nbr_list[:, 0], nbr_list[:, 1], :]\n",
    "\n",
    "# === Test Data ===\n",
    "# Define atomic positions (3 atoms in 3D space)\n",
    "xyz = torch.tensor([[0.0, 0.0, 0.0],  \n",
    "                    [1.0, 0.0, 0.0],  \n",
    "                    [0.0, 10.0, 0.0]], dtype=torch.float32)\n",
    "\n",
    "xyz = xyz.unsqueeze(0)  # Add batch dimension (1, N, 3)\n",
    "\n",
    "# Define cutoff distance\n",
    "cutoff = 1.5\n",
    "\n",
    "# Define cubic unit cell (size 3x3x3)\n",
    "cell = torch.eye(3) * 3.0\n",
    "\n",
    "# Run function and print results\n",
    "nbr_list, distances, offsets = generate_nbr_list(xyz, cutoff, cell, get_dis=True)\n",
    "\n",
    "# Print results\n",
    "print(\"\\n=== Neighbor List ===\")\n",
    "print(nbr_list)\n",
    "\n",
    "print(\"\\n=== Distances ===\")\n",
    "print(distances)\n",
    "\n",
    "print(\"\\n=== Offsets ===\")\n",
    "print(offsets)\n"
   ]
  },
  {
   "cell_type": "code",
   "execution_count": 2,
   "metadata": {},
   "outputs": [
    {
     "data": {
      "text/plain": [
       "0.21626000619598806"
      ]
     },
     "execution_count": 2,
     "metadata": {},
     "output_type": "execute_result"
    }
   ],
   "source": [
    "import numpy as np\n",
    "np.random.rand()"
   ]
  }
 ],
 "metadata": {
  "kernelspec": {
   "display_name": "myenv_mlmd",
   "language": "python",
   "name": "python3"
  },
  "language_info": {
   "codemirror_mode": {
    "name": "ipython",
    "version": 3
   },
   "file_extension": ".py",
   "mimetype": "text/x-python",
   "name": "python",
   "nbconvert_exporter": "python",
   "pygments_lexer": "ipython3",
   "version": "3.9.21"
  }
 },
 "nbformat": 4,
 "nbformat_minor": 2
}
