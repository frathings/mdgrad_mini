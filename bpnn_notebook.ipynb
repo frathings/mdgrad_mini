{
 "cells": [
  {
   "cell_type": "markdown",
   "id": "8a9a1777-e0e4-4b89-a95b-55aecdbb3841",
   "metadata": {},
   "source": [
    "# BPNN\n",
    "The Behler-Parrinello Neural Network (BPNN) is a machine learning approach used for constructing interatomic potentials. It was introduced by Jörg Behler and Michele Parrinello in 2007 to provide accurate potential energy surfaces (PES) for molecular and condensed-phase systems while maintaining computational efficiency.\n",
    "\n",
    "\n",
    "- The total energy of a system is expressed as a sum of individual atomic contributions, where each atom's energy is predicted by a neural network based on its local environment.\n",
    "\n",
    "- Atomic environments are represented using symmetry functions that are invariant to translation, rotation, and permutation of atoms.\n",
    "\n",
    "- BPNNs are typically trained on reference datasets from Density Functional Theory (DFT) or higher-level quantum mechanical calculations.\n",
    "This allows them to reproduce quantum accuracy at a much lower computational cost.\n",
    "\n"
   ]
  },
  {
   "cell_type": "code",
   "execution_count": 3,
   "id": "c1d6441c-1f95-4e30-a50a-9b2497802e4e",
   "metadata": {},
   "outputs": [],
   "source": [
    "from ase.calculators.calculator import Calculator\n",
    "import torch\n",
    "import numpy as np\n",
    "import torch.nn as nn\n",
    "import torch.optim as optim\n"
   ]
  },
  {
   "cell_type": "markdown",
   "id": "77115126-34bc-4810-b57c-24116d038395",
   "metadata": {
    "jp-MarkdownHeadingCollapsed": true
   },
   "source": [
    "## Symmetry Functions"
   ]
  },
  {
   "cell_type": "code",
   "execution_count": 1,
   "id": "3c032b90-79c5-4698-a766-29f4402bc8d3",
   "metadata": {},
   "outputs": [],
   "source": [
    "# Symmetry Functions\n",
    "class G1:\n",
    "    def __init__(self):\n",
    "        pass\n",
    "\n",
    "    def __repr__(self):\n",
    "        return 'G1'\n",
    "\n",
    "    def __call__(self, **var):\n",
    "        return torch.sum(var['fc'], dim=-1)\n",
    "\n",
    "\n",
    "class G2:\n",
    "    def __init__(self, eta, Rs):\n",
    "        self.eta = eta\n",
    "        self.Rs = Rs\n",
    "\n",
    "    def __repr__(self):\n",
    "        return 'G2(%.2f, %.2f)' % (self.eta, self.Rs)\n",
    "\n",
    "    def __call__(self, **var):\n",
    "        sf = torch.exp(-self.eta * (var['Rij'] - self.Rs) ** 2) * var['fc']\n",
    "        return torch.sum(sf, dim=-1)\n",
    "\n",
    "\n",
    "class G4:\n",
    "    def __init__(self, eta=1., zeta=1., lambd=1.):\n",
    "        self.eta = eta\n",
    "        self.zeta = zeta\n",
    "        self.lambd = lambd\n",
    "\n",
    "    def __repr__(self):\n",
    "        return 'G4(%.2f, %.2f, %.2f)' % (self.eta, self.zeta, self.lambd)\n",
    "\n",
    "    def __call__(self, **var):\n",
    "        Rij_expanded = var['Rij'].unsqueeze(-1)\n",
    "        expo = torch.exp(-self.eta * (Rij_expanded + Rij_expanded.transpose(-2, -1)))\n",
    "        cosin = torch.pow(var['cos'] * self.lambd + 1, self.zeta)\n",
    "        cutoff = var['fc'].unsqueeze(-1) * var['fc'].unsqueeze(-2)\n",
    "        sf = torch.sum(torch.sum(2.**(1 - self.zeta) * expo * cutoff * cosin,\n",
    "                                dim=-1), dim=-1)\n",
    "        return sf"
   ]
  },
  {
   "cell_type": "markdown",
   "id": "29384291-80c3-4ce9-b3a6-5f91ea8ebcba",
   "metadata": {
    "jp-MarkdownHeadingCollapsed": true
   },
   "source": [
    "## Neural Network "
   ]
  },
  {
   "cell_type": "code",
   "execution_count": 4,
   "id": "cc596fe7-fb09-4956-aff5-9855cd6d86a7",
   "metadata": {},
   "outputs": [],
   "source": [
    "class NeuralNetwork(nn.Module):\n",
    "    \"\"\"Neural network model for atomic energy prediction\"\"\"\n",
    "    def __init__(self, input_size, hidden_sizes, output_size, name):\n",
    "        super().__init__()\n",
    "        self.name = name\n",
    "        \n",
    "        # Build layers\n",
    "        sizes = [input_size] + hidden_sizes + [output_size]\n",
    "        layers = []\n",
    "        \n",
    "        for i in range(len(sizes) - 2):\n",
    "            layers.append(nn.Linear(sizes[i], sizes[i + 1]))\n",
    "            layers.append(nn.ReLU())\n",
    "        \n",
    "        # Add final layer without activation\n",
    "        layers.append(nn.Linear(sizes[-2], sizes[-1]))\n",
    "        \n",
    "        self.network = nn.Sequential(*layers)\n",
    "\n",
    "    def forward(self, x):\n",
    "        return self.network(x)\n"
   ]
  },
  {
   "cell_type": "markdown",
   "id": "c5bfdb80-4b36-4609-adf2-7a0cc0bc58d2",
   "metadata": {},
   "source": [
    "## Behel-Parrinello "
   ]
  },
  {
   "cell_type": "code",
   "execution_count": 6,
   "id": "21319902-12fc-44ff-b43d-c58824a5390b",
   "metadata": {},
   "outputs": [],
   "source": [
    "class BPNN(Calculator):\n",
    "    \"\"\"BPNN Calculator\n",
    "    \"\"\"\n",
    "    def __init__(self,\n",
    "                 sfConfig=None, nnConfig=None,\n",
    "                 symbols=None, r_cutoff=None,\n",
    "                 atoms=None, dataset=None):\n",
    "        Calculator.__init__(self)\n",
    "        self.sf_config = sfConfig\n",
    "        self.nn_config = nnConfig\n",
    "        self.symbols = symbols\n",
    "        self.atoms = atoms\n",
    "        self.dataset = dataset\n",
    "        self.r_cutoff = r_cutoff\n",
    "        self.device = torch.device('cuda' if torch.cuda.is_available() else 'cpu')\n",
    "\n",
    "    def update_config(self):\n",
    "        \"\"\"\n",
    "        Update the configurations according to keywords\n",
    "        If some variable is not defined, build a default one\n",
    "        \"\"\"\n",
    "        if self.r_cutoff is None:\n",
    "            self.r_cutoff = 6.\n",
    "\n",
    "        if self.symbols is None:\n",
    "            if self.atoms is not None:\n",
    "                self.symbols = list(set([a.symbol for a in self.atoms]))\n",
    "            else:\n",
    "                print('No label specified')\n",
    "        if self.sf_config is None:\n",
    "            self._make_defaultsf()\n",
    "        if self.nn_config is None:\n",
    "            self._make_defaultnn()\n",
    "\n",
    "    def _make_defaultsf(self):\n",
    "        sf_config = {}\n",
    "        for s_i in self.symbols:\n",
    "            sf_config[s_i] = {}\n",
    "            for s_j in self.symbols:\n",
    "                sf_config[s_i][s_j] = [G1(),\n",
    "                                     G2(2., 1.),\n",
    "                                     G2(4., 1.),\n",
    "                                     G4(1., 1., -1.),\n",
    "                                     G4(2., 2., 1.)]\n",
    "        self.sf_config = sf_config\n",
    "\n",
    "    def _make_defaultnn(self):\n",
    "        nn_config = {}\n",
    "        for s_i in self.symbols:\n",
    "            input_size = sum([len(c) for c in self.sf_config[s_i].values()])\n",
    "            nn_config[s_i] = NeuralNetwork(\n",
    "                input_size=input_size,\n",
    "                hidden_sizes=[10, 10, 10],\n",
    "                output_size=1,\n",
    "                name=s_i\n",
    "            ).to(self.device)\n",
    "        self.nn_config = nn_config\n",
    "\n",
    "    def train(self, max_steps=1000, learning_rate=0.001, dataset=None):\n",
    "        \"\"\"\n",
    "        Train the model\n",
    "        \"\"\"\n",
    "        if dataset is None:\n",
    "            dataset = self.dataset\n",
    "        self.update_config()\n",
    "\n",
    "        if self.symbols is None:\n",
    "            self.symbols = list(\n",
    "                set(sum([[a.symbol for a in traj[0]] for traj in dataset],\n",
    "                    [])))\n",
    "\n",
    "        print('Constructing Neural Network')\n",
    "        cost_log = []\n",
    "\n",
    "        # Move models to device and set to training mode\n",
    "        for model in self.nn_config.values():\n",
    "            model.train()\n",
    "\n",
    "        # Create optimizer\n",
    "        params = []\n",
    "        for model in self.nn_config.values():\n",
    "            params.extend(list(model.parameters()))\n",
    "        optimizer = optim.Adam(params, lr=learning_rate)\n",
    "\n",
    "        print('Starting Optimization')\n",
    "        print('=' * 30)\n",
    "        print('%-10s%-20s' % ('Steps', 'Energy RMS'))\n",
    "        print('-' * 30)\n",
    "\n",
    "        for step in range(max_steps):\n",
    "            total_loss = 0\n",
    "            for traj in dataset:\n",
    "                # Convert positions to numpy array first for better performance\n",
    "                coords_np = np.array([a.get_scaled_positions() for a in traj])\n",
    "                coord = torch.tensor(coords_np, dtype=torch.float32, device=self.device)\n",
    "                e_data = torch.tensor([[atoms.get_potential_energy()] for atoms in traj],\n",
    "                                    dtype=torch.float32,\n",
    "                                    device=self.device)\n",
    "                e_data = e_data - e_data.mean()\n",
    "                \n",
    "                # Forward pass\n",
    "                e_nn = self.forward(traj[0], coord)\n",
    "                loss = torch.mean((e_nn - e_data) ** 2)\n",
    "                \n",
    "                # Backward pass\n",
    "                optimizer.zero_grad()\n",
    "                loss.backward()\n",
    "                optimizer.step()\n",
    "                \n",
    "                total_loss += loss.item()\n",
    "            \n",
    "            cost_log.append(total_loss)\n",
    "            if step % 100 == 0:\n",
    "                print('%-10i%-20.5f' % (step, total_loss))\n",
    "\n",
    "        print('=' * 30)\n",
    "        return cost_log, e_nn.detach().cpu().numpy(), e_data.detach().cpu().numpy()\n",
    "\n",
    "    def forward(self, atoms, coord):\n",
    "        \"\"\"Forward pass through the network\"\"\"\n",
    "        dif_mat = self.difference_matrix(coord, atoms)\n",
    "        dis_mat = torch.sqrt(torch.sum(dif_mat ** 2, dim=-1))\n",
    "        fc_mat = torch.cos(np.pi * dis_mat / self.r_cutoff) * 0.5 + 0.5\n",
    "    \n",
    "        # Create diagonal masks\n",
    "        n_atoms = len(atoms)\n",
    "        diag1 = 1 - torch.eye(n_atoms, device=self.device).unsqueeze(1)\n",
    "        diag2 = 1 - torch.eye(n_atoms, device=self.device).unsqueeze(0)\n",
    "        diag3 = 1 - torch.eye(n_atoms, device=self.device).unsqueeze(2)\n",
    "        diag_filter = (diag1 * diag2 * diag3).unsqueeze(0)\n",
    "    \n",
    "        # Calculate cosine matrix\n",
    "        dif_trans = dif_mat.transpose(-2, -1)\n",
    "        cos_mat = torch.matmul(dif_mat, dif_trans)\n",
    "    \n",
    "        # Fix division mismatch\n",
    "        dis_mat_expanded = dis_mat.unsqueeze(-1)\n",
    "        dis_mat_expanded_transposed = dis_mat_expanded.transpose(-2, -1)\n",
    "    \n",
    "        # Avoid division by zero by adding a small epsilon\n",
    "        epsilon = 1e-8\n",
    "        dis_mat_expanded = dis_mat_expanded + epsilon\n",
    "        dis_mat_expanded_transposed = dis_mat_expanded_transposed + epsilon\n",
    "    \n",
    "        # Ensure cos_mat dimensions match dis_mat_expanded\n",
    "        cos_mat_normalized = cos_mat / (dis_mat_expanded * dis_mat_expanded_transposed)\n",
    "        cos_mat = torch.where(\n",
    "            diag_filter.expand_as(cos_mat) > 0,\n",
    "            cos_mat_normalized,\n",
    "            torch.zeros_like(cos_mat)\n",
    "        )\n",
    "       # print(\"cos_mat shape:\", cos_mat.shape)\n",
    "       # print(\"dis_mat_expanded shape:\", dis_mat_expanded.shape)\n",
    "       # print(\"dis_mat_expanded_transposed shape:\", dis_mat_expanded_transposed.shape)\n",
    "\n",
    "        # Calculate energy\n",
    "        energy = torch.zeros(coord.shape[0], 1, device=self.device)\n",
    "        for i, atom_i in enumerate(atoms):\n",
    "            sym_funcs = []\n",
    "            for s_j, sym_func_j in self.sf_config[atom_i.symbol].items():\n",
    "                slist = [atom.index for atom in atoms if atom.symbol == s_j]\n",
    "                if not slist:\n",
    "                    continue\n",
    "    \n",
    "                dis_mat_filtered = dis_mat[:, i:i+1, slist]\n",
    "                fc_mat_filtered = fc_mat[:, i:i+1, slist]\n",
    "                cos_mat_filtered = cos_mat[:, i:i+1, slist]\n",
    "                cos_mat_filtered = cos_mat_filtered[..., slist]\n",
    "    \n",
    "                for sym_func in sym_func_j:\n",
    "                    sf_output = sym_func(\n",
    "                        fc=fc_mat_filtered,\n",
    "                        Rij=dis_mat_filtered,\n",
    "                        cos=cos_mat_filtered\n",
    "                    )\n",
    "                    sym_funcs.append(sf_output)\n",
    "    \n",
    "            if sym_funcs:\n",
    "                sym_funcs = torch.cat(sym_funcs, dim=1)\n",
    "                energy += self.nn_config[atom_i.symbol](sym_funcs)\n",
    "    \n",
    "        return energy\n",
    "\n",
    "    def difference_matrix(self, coord, atoms):\n",
    "        \"\"\"Helper function, calculates pairwise distances according to\n",
    "        the periodic boundary condition\n",
    "        \"\"\"\n",
    "        # Convert cell to tensor once\n",
    "        cell = torch.tensor(np.array(atoms.get_cell()), \n",
    "                          dtype=torch.float32,\n",
    "                          device=self.device)\n",
    "\n",
    "        # Create difference matrix with proper broadcasting\n",
    "        # coord shape: [batch, n_atoms, 3]\n",
    "        # Output shape: [batch, n_atoms, n_atoms, 3]\n",
    "        dif_mat = coord.unsqueeze(2) - coord.unsqueeze(1)\n",
    "        \n",
    "        # Handle periodic boundary conditions\n",
    "        dif_mat_pbc = []\n",
    "        for i, pbc in enumerate(atoms.pbc):\n",
    "            dif_i = dif_mat[..., i:i+1]\n",
    "            if pbc:\n",
    "                # Apply minimum image convention\n",
    "                dif_i = torch.where(\n",
    "                    dif_i < -0.5,\n",
    "                    dif_i + 1.0,\n",
    "                    torch.where(\n",
    "                        dif_i > 0.5,\n",
    "                        dif_i - 1.0,\n",
    "                        dif_i\n",
    "                    )\n",
    "                )\n",
    "            dif_mat_pbc.append(dif_i)\n",
    "        \n",
    "        dif_mat_pbc = torch.cat(dif_mat_pbc, dim=-1)\n",
    "        # Transform to cartesian coordinates\n",
    "        return torch.matmul(dif_mat_pbc, cell)\n"
   ]
  },
  {
   "cell_type": "markdown",
   "id": "f820ab43-9f3d-49ef-82ef-e449a28d2c3f",
   "metadata": {},
   "source": [
    "# Using it"
   ]
  },
  {
   "cell_type": "markdown",
   "id": "7b4bb7f0-265b-4f2b-96dd-0ce43efc74ee",
   "metadata": {},
   "source": [
    "## Data generation"
   ]
  },
  {
   "cell_type": "code",
   "execution_count": 7,
   "id": "ea9082e0-b87c-4b90-ab36-ad7a6c37e31f",
   "metadata": {},
   "outputs": [
    {
     "name": "stdout",
     "output_type": "stream",
     "text": [
      "Requirement already satisfied: nglview in /home/francesca/miniconda3/envs/mdgrad/lib/python3.8/site-packages (2.0)\n",
      "Requirement already satisfied: ipywidgets>=7 in /home/francesca/miniconda3/envs/mdgrad/lib/python3.8/site-packages (from nglview) (8.1.5)\n",
      "Requirement already satisfied: numpy in /home/francesca/miniconda3/envs/mdgrad/lib/python3.8/site-packages (from nglview) (1.21.4)\n",
      "Requirement already satisfied: comm>=0.1.3 in /home/francesca/miniconda3/envs/mdgrad/lib/python3.8/site-packages (from ipywidgets>=7->nglview) (0.2.1)\n",
      "Requirement already satisfied: ipython>=6.1.0 in /home/francesca/miniconda3/envs/mdgrad/lib/python3.8/site-packages (from ipywidgets>=7->nglview) (8.12.2)\n",
      "Requirement already satisfied: traitlets>=4.3.1 in /home/francesca/miniconda3/envs/mdgrad/lib/python3.8/site-packages (from ipywidgets>=7->nglview) (5.14.3)\n",
      "Requirement already satisfied: widgetsnbextension~=4.0.12 in /home/francesca/miniconda3/envs/mdgrad/lib/python3.8/site-packages (from ipywidgets>=7->nglview) (4.0.13)\n",
      "Requirement already satisfied: jupyterlab-widgets~=3.0.12 in /home/francesca/miniconda3/envs/mdgrad/lib/python3.8/site-packages (from ipywidgets>=7->nglview) (3.0.13)\n",
      "Requirement already satisfied: backcall in /home/francesca/miniconda3/envs/mdgrad/lib/python3.8/site-packages (from ipython>=6.1.0->ipywidgets>=7->nglview) (0.2.0)\n",
      "Requirement already satisfied: decorator in /home/francesca/miniconda3/envs/mdgrad/lib/python3.8/site-packages (from ipython>=6.1.0->ipywidgets>=7->nglview) (5.1.1)\n",
      "Requirement already satisfied: jedi>=0.16 in /home/francesca/miniconda3/envs/mdgrad/lib/python3.8/site-packages (from ipython>=6.1.0->ipywidgets>=7->nglview) (0.19.1)\n",
      "Requirement already satisfied: matplotlib-inline in /home/francesca/miniconda3/envs/mdgrad/lib/python3.8/site-packages (from ipython>=6.1.0->ipywidgets>=7->nglview) (0.1.6)\n",
      "Requirement already satisfied: pickleshare in /home/francesca/miniconda3/envs/mdgrad/lib/python3.8/site-packages (from ipython>=6.1.0->ipywidgets>=7->nglview) (0.7.5)\n",
      "Requirement already satisfied: prompt-toolkit!=3.0.37,<3.1.0,>=3.0.30 in /home/francesca/miniconda3/envs/mdgrad/lib/python3.8/site-packages (from ipython>=6.1.0->ipywidgets>=7->nglview) (3.0.43)\n",
      "Requirement already satisfied: pygments>=2.4.0 in /home/francesca/miniconda3/envs/mdgrad/lib/python3.8/site-packages (from ipython>=6.1.0->ipywidgets>=7->nglview) (2.15.1)\n",
      "Requirement already satisfied: stack-data in /home/francesca/miniconda3/envs/mdgrad/lib/python3.8/site-packages (from ipython>=6.1.0->ipywidgets>=7->nglview) (0.2.0)\n",
      "Requirement already satisfied: typing-extensions in /home/francesca/miniconda3/envs/mdgrad/lib/python3.8/site-packages (from ipython>=6.1.0->ipywidgets>=7->nglview) (4.11.0)\n",
      "Requirement already satisfied: pexpect>4.3 in /home/francesca/miniconda3/envs/mdgrad/lib/python3.8/site-packages (from ipython>=6.1.0->ipywidgets>=7->nglview) (4.8.0)\n",
      "Requirement already satisfied: parso<0.9.0,>=0.8.3 in /home/francesca/miniconda3/envs/mdgrad/lib/python3.8/site-packages (from jedi>=0.16->ipython>=6.1.0->ipywidgets>=7->nglview) (0.8.3)\n",
      "Requirement already satisfied: ptyprocess>=0.5 in /home/francesca/miniconda3/envs/mdgrad/lib/python3.8/site-packages (from pexpect>4.3->ipython>=6.1.0->ipywidgets>=7->nglview) (0.7.0)\n",
      "Requirement already satisfied: wcwidth in /home/francesca/miniconda3/envs/mdgrad/lib/python3.8/site-packages (from prompt-toolkit!=3.0.37,<3.1.0,>=3.0.30->ipython>=6.1.0->ipywidgets>=7->nglview) (0.2.13)\n",
      "Requirement already satisfied: executing in /home/francesca/miniconda3/envs/mdgrad/lib/python3.8/site-packages (from stack-data->ipython>=6.1.0->ipywidgets>=7->nglview) (0.8.3)\n",
      "Requirement already satisfied: asttokens in /home/francesca/miniconda3/envs/mdgrad/lib/python3.8/site-packages (from stack-data->ipython>=6.1.0->ipywidgets>=7->nglview) (2.0.5)\n",
      "Requirement already satisfied: pure-eval in /home/francesca/miniconda3/envs/mdgrad/lib/python3.8/site-packages (from stack-data->ipython>=6.1.0->ipywidgets>=7->nglview) (0.2.2)\n",
      "Requirement already satisfied: six in /home/francesca/miniconda3/envs/mdgrad/lib/python3.8/site-packages (from asttokens->stack-data->ipython>=6.1.0->ipywidgets>=7->nglview) (1.16.0)\n"
     ]
    },
    {
     "name": "stderr",
     "output_type": "stream",
     "text": [
      "/tmp/ipykernel_788/493973830.py:23: DeprecationWarning: Please use atoms.calc = calc\n",
      "  atoms.set_calculator(EMT())\n",
      "/home/francesca/miniconda3/envs/mdgrad/lib/python3.8/site-packages/ase/md/md.py:53: FutureWarning: Specify the temperature in K using the 'temperature_K' argument\n",
      "  warnings.warn(FutureWarning(w))\n",
      "/home/francesca/miniconda3/envs/mdgrad/lib/python3.8/site-packages/ase/md/verlet.py:53: FutureWarning: dt variable is deprecated; please use timestep.\n",
      "  warnings.warn(\n"
     ]
    }
   ],
   "source": [
    "import os\n",
    "from ase import Atoms, Atom, units\n",
    "import ase.io\n",
    "from ase.calculators.emt import EMT\n",
    "from ase.build.surface import fcc110\n",
    "from ase.md.velocitydistribution import MaxwellBoltzmannDistribution\n",
    "from ase.md import VelocityVerlet\n",
    "from ase.constraints import FixAtoms\n",
    "import nglview as nv\n",
    "\n",
    "def generate_data(count, filename='training.traj'):\n",
    "    \"\"\"Generates test or training data with a simple MD simulation.\"\"\"\n",
    "    if os.path.exists(filename):\n",
    "        os.remove(filename)\n",
    "    traj = ase.io.Trajectory(filename, 'w')\n",
    "    atoms = fcc110('Pt', (4, 5, 2), vacuum=7.)\n",
    "    atoms.extend(Atoms([Atom('Cu', atoms[7].position + (0., 0., 2.5)),\n",
    "                        Atom('Cu', atoms[7].position + (0., 0., 5.)),\n",
    "                        Atom('Cu', atoms[17].position + (0., 0., 2.5)),\n",
    "                        Atom('Cu', atoms[17].position + (0., 0., 5.))]))\n",
    "    atoms.set_constraint(FixAtoms(indices=[0, 2]))\n",
    "    atoms.set_calculator(EMT())\n",
    "    atoms.get_potential_energy()\n",
    "    traj.write(atoms)\n",
    "    MaxwellBoltzmannDistribution(atoms, 300. * units.kB)\n",
    "    dyn = VelocityVerlet(atoms, dt=1. * units.fs)\n",
    "    for step in range(count - 1):\n",
    "        dyn.run(10)\n",
    "        traj.write(atoms)\n",
    "\n",
    "generate_data(1000)"
   ]
  },
  {
   "cell_type": "markdown",
   "id": "0465170f-6887-4f73-8fe7-95514ce64214",
   "metadata": {},
   "source": [
    "## Training"
   ]
  },
  {
   "cell_type": "code",
   "execution_count": 8,
   "id": "bf33ecaf-1991-4621-b1d6-57c68895d19a",
   "metadata": {},
   "outputs": [],
   "source": [
    "from ase.io import read\n",
    "import nglview as nv\n",
    "traj = read('training.traj',index=':')\n",
    "#nv.show_asetraj(traj)"
   ]
  },
  {
   "cell_type": "code",
   "execution_count": 9,
   "id": "d0f8abe9-0a22-4a98-bcff-5b3a669da22e",
   "metadata": {},
   "outputs": [
    {
     "name": "stdout",
     "output_type": "stream",
     "text": [
      "Constructing Neural Network\n",
      "Starting Optimization\n",
      "==============================\n",
      "Steps     Energy RMS          \n",
      "------------------------------\n",
      "0         159.48289           \n",
      "100       0.56077             \n",
      "200       0.54324             \n",
      "300       0.46112             \n",
      "400       0.43010             \n",
      "500       0.42909             \n",
      "600       0.42349             \n",
      "700       0.42671             \n",
      "800       0.42054             \n",
      "900       0.41512             \n",
      "==============================\n"
     ]
    }
   ],
   "source": [
    "calc = BPNN(symbols=['Pt','Cu'])\n",
    "costs, predicted_energy, true_energy = calc.train(dataset=[traj], max_steps=1000, learning_rate=0.03)"
   ]
  },
  {
   "cell_type": "code",
   "execution_count": 10,
   "id": "8f0ca302-5510-4d20-bf33-edc52a89453f",
   "metadata": {},
   "outputs": [
    {
     "data": {
      "text/plain": [
       "[<matplotlib.lines.Line2D at 0x7f0fe489aa60>]"
      ]
     },
     "execution_count": 10,
     "metadata": {},
     "output_type": "execute_result"
    },
    {
     "data": {
      "image/png": "[encoded data removed]",
      "text/plain": [
       "<Figure size 640x480 with 1 Axes>"
      ]
     },
     "metadata": {},
     "output_type": "display_data"
    }
   ],
   "source": [
    "%matplotlib inline\n",
    "import matplotlib.pyplot as plt\n",
    "plt.plot(costs[100:])"
   ]
  },
  {
   "cell_type": "code",
   "execution_count": 11,
   "id": "4932f2fe-38f8-46f8-acc4-02bc702be23e",
   "metadata": {},
   "outputs": [
    {
     "data": {
      "text/plain": [
       "[<matplotlib.lines.Line2D at 0x7f0fe1f88df0>]"
      ]
     },
     "execution_count": 11,
     "metadata": {},
     "output_type": "execute_result"
    },
    {
     "data": {
      "image/png": "[encoded data removed]",
      "text/plain": [
       "<Figure size 640x480 with 1 Axes>"
      ]
     },
     "metadata": {},
     "output_type": "display_data"
    }
   ],
   "source": [
    "plt.scatter(predicted_energy,true_energy)\n",
    "plt.plot([-5,5],[-5,5])"
   ]
  },
  {
   "cell_type": "code",
   "execution_count": null,
   "id": "1f6c2a60-dc60-4b6b-982c-d5500ed6e350",
   "metadata": {},
   "outputs": [],
   "source": []
  }
 ],
 "metadata": {
  "kernelspec": {
   "display_name": "Python 3 (ipykernel)",
   "language": "python",
   "name": "python3"
  },
  "language_info": {
   "codemirror_mode": {
    "name": "ipython",
    "version": 3
   },
   "file_extension": ".py",
   "mimetype": "text/x-python",
   "name": "python",
   "nbconvert_exporter": "python",
   "pygments_lexer": "ipython3",
   "version": "3.8.20"
  }
 },
 "nbformat": 4,
 "nbformat_minor": 5
}
